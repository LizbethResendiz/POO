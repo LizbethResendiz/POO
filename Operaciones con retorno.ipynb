{
  "nbformat": 4,
  "nbformat_minor": 0,
  "metadata": {
    "colab": {
      "provenance": [],
      "toc_visible": true,
      "authorship_tag": "ABX9TyP5en49iUfuktJEWZaRdl/G",
      "include_colab_link": true
    },
    "kernelspec": {
      "name": "python3",
      "display_name": "Python 3"
    },
    "language_info": {
      "name": "python"
    }
  },
  "cells": [
    {
      "cell_type": "markdown",
      "metadata": {
        "id": "view-in-github",
        "colab_type": "text"
      },
      "source": [
        "<a href=\"https://colab.research.google.com/github/LizbethResendiz/POO/blob/main/Operaciones%20con%20retorno.ipynb\" target=\"_parent\"><img src=\"https://colab.research.google.com/assets/colab-badge.svg\" alt=\"Open In Colab\"/></a>"
      ]
    },
    {
      "cell_type": "markdown",
      "source": [
        "Programa hecho por Lizbeth Resendiz Avila\n"
      ],
      "metadata": {
        "id": "1IBAi5SC77nv"
      }
    },
    {
      "cell_type": "code",
      "execution_count": 5,
      "metadata": {
        "colab": {
          "base_uri": "https://localhost:8080/"
        },
        "id": "5Y6-udGN6pfX",
        "outputId": "2fb94b76-fe98-41ba-e55c-f00a74afbb3c"
      },
      "outputs": [
        {
          "output_type": "stream",
          "name": "stdout",
          "text": [
            "Ingrese el primer valor: 5\n",
            "Ingrese el segundo valor: 2\n",
            "La suma es:  7\n"
          ]
        }
      ],
      "source": [
        "class Operaciones():\n",
        "    def __init__(self,a, b):\n",
        "        self.a = a\n",
        "        self.b = b\n",
        "\n",
        "    def suma(self):\n",
        "      self.r=self.a+self.b\n",
        "      return self.r\n",
        "\n",
        "v1=int(input(\"Ingrese el primer valor: \"))\n",
        "v2=int(input(\"Ingrese el segundo valor: \"))\n",
        "obj=Operaciones(v1,v2)\n",
        "r=obj.suma()\n",
        "print(\"La suma es: \",r)"
      ]
    }
  ]
}