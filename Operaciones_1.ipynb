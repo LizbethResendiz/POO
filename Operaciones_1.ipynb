{
  "nbformat": 4,
  "nbformat_minor": 0,
  "metadata": {
    "colab": {
      "provenance": [],
      "toc_visible": true,
      "authorship_tag": "ABX9TyNM4TwByWhgV4FbKhlE3zHf",
      "include_colab_link": true
    },
    "kernelspec": {
      "name": "python3",
      "display_name": "Python 3"
    },
    "language_info": {
      "name": "python"
    }
  },
  "cells": [
    {
      "cell_type": "markdown",
      "metadata": {
        "id": "view-in-github",
        "colab_type": "text"
      },
      "source": [
        "<a href=\"https://colab.research.google.com/github/LizbethResendiz/POO/blob/main/Operaciones_1.ipynb\" target=\"_parent\"><img src=\"https://colab.research.google.com/assets/colab-badge.svg\" alt=\"Open In Colab\"/></a>"
      ]
    },
    {
      "cell_type": "markdown",
      "source": [
        "Programa hecho por Lizbeth Resendiz Avila"
      ],
      "metadata": {
        "id": "zV-XgpOx-MHk"
      }
    },
    {
      "cell_type": "code",
      "execution_count": 6,
      "metadata": {
        "id": "zV11_U0n-1-X",
        "colab": {
          "base_uri": "https://localhost:8080/"
        },
        "outputId": "7ecac66f-fcf1-4908-91ec-c180f0d83e09"
      },
      "outputs": [
        {
          "output_type": "stream",
          "name": "stdout",
          "text": [
            "La suma de 5 y 2 es:  7\n"
          ]
        }
      ],
      "source": [
        "class Suma:\n",
        "  def __init__(self):\n",
        "    self.valora=5\n",
        "    self.valorb=2\n",
        "  def operacion(self):\n",
        "    resultado=self.valora+self.valorb\n",
        "    print(\"La suma de\",self.valora,\"y\",self.valorb,\"es: \",resultado)\n",
        "\n",
        "\n"
      ]
    },
    {
      "cell_type": "code",
      "source": [
        "obj=Suma()\n",
        "obj.operacion()"
      ],
      "metadata": {
        "colab": {
          "base_uri": "https://localhost:8080/"
        },
        "id": "GmAqd13CGA5A",
        "outputId": "7d0d88ae-3ea0-4e63-b766-4479583e35c4"
      },
      "execution_count": 7,
      "outputs": [
        {
          "output_type": "stream",
          "name": "stdout",
          "text": [
            "La suma de 5 y 2 es:  7\n"
          ]
        }
      ]
    },
    {
      "cell_type": "code",
      "source": [
        "class   Operaciones:\n",
        "  def __init__(self):\n",
        "    self.msg=\"\"\n",
        "    self.valora=0\n",
        "    self.valorb=0\n",
        "    self.resultado=0\n",
        "  def suma(self):\n",
        "    self.msg=\"La suma de \"+self.valora+\" + \"+self.valorb+\" =\"\n",
        "  def multiplicacion(self):\n",
        "    self.msg=\"La multiplicacion de \"+self.valora+\" * \"+self.valorb+\" =\"\n",
        "  def resta(self):\n",
        "    self.msg=\"La resta de \"+self.valora+\" - \"+self.valorb+\" =\"\n",
        "  def division(self):\n",
        "    self.msg=\"La division de \"+self.valora+\" / \"+self.valorb+\" =\"\n",
        "  def imprimir(self):\n",
        "    print(self.msg,self.resultado)\n",
        "\n",
        "\n",
        "\n"
      ],
      "metadata": {
        "id": "863zEbZ4GDgm"
      },
      "execution_count": 2,
      "outputs": []
    },
    {
      "cell_type": "code",
      "source": [
        "obj=Operaciones()\n",
        "obj.valora=int(input(\"Ingrese el primer numero: \"))\n",
        "obj.valorb=int(input(\"Ingrese el segundo numero: \"))\n",
        "obj.suma()\n",
        "obj.imprimir()"
      ],
      "metadata": {
        "colab": {
          "base_uri": "https://localhost:8080/"
        },
        "id": "YaKWwbBTGLsE",
        "outputId": "850f237d-1b2f-47e2-8c06-b783ba918c8c"
      },
      "execution_count": null,
      "outputs": [
        {
          "name": "stdout",
          "output_type": "stream",
          "text": [
            "Ingrese el primer numero: 5\n"
          ]
        }
      ]
    },
    {
      "cell_type": "code",
      "source": [],
      "metadata": {
        "id": "NQTm72HNJAzJ"
      },
      "execution_count": null,
      "outputs": []
    },
    {
      "cell_type": "code",
      "source": [],
      "metadata": {
        "id": "JqwizP9NI2u2"
      },
      "execution_count": null,
      "outputs": []
    }
  ]
}