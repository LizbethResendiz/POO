{
  "nbformat": 4,
  "nbformat_minor": 0,
  "metadata": {
    "colab": {
      "provenance": [],
      "authorship_tag": "ABX9TyNd3knNRTuODYR2zMlZp2Bp",
      "include_colab_link": true
    },
    "kernelspec": {
      "name": "python3",
      "display_name": "Python 3"
    },
    "language_info": {
      "name": "python"
    }
  },
  "cells": [
    {
      "cell_type": "markdown",
      "metadata": {
        "id": "view-in-github",
        "colab_type": "text"
      },
      "source": [
        "<a href=\"https://colab.research.google.com/github/LizbethResendiz/POO/blob/main/Par_Impar.ipynb\" target=\"_parent\"><img src=\"https://colab.research.google.com/assets/colab-badge.svg\" alt=\"Open In Colab\"/></a>"
      ]
    },
    {
      "cell_type": "code",
      "execution_count": 4,
      "metadata": {
        "colab": {
          "base_uri": "https://localhost:8080/"
        },
        "id": "bXMFXcyATjJC",
        "outputId": "430dc666-3b56-4a69-8de2-173962c8a8fe"
      },
      "outputs": [
        {
          "output_type": "stream",
          "name": "stdout",
          "text": [
            "Ingrese el un numero: 2\n",
            "El numero 2 es par\n",
            "Ingrese el un numero: 1\n",
            "El numero 1 es impar\n"
          ]
        }
      ],
      "source": [
        "class ParImpar:\n",
        "    def __init__(self):\n",
        "        self.num=0\n",
        "\n",
        "    def par(self,num):\n",
        "      n= num % 2\n",
        "      return n\n",
        "\n",
        "obj=ParImpar()\n",
        "num=int(input(\"Ingrese el un numero: \"))\n",
        "N=obj.par(num)\n",
        "imprimir=(\"El numero \"+str(num)+\" es par\" if N == 0 else \"El numero \"+str(num)+\" es impar\" )\n",
        "print(imprimir)"
      ]
    }
  ]
}