{
  "nbformat": 4,
  "nbformat_minor": 0,
  "metadata": {
    "colab": {
      "provenance": [],
      "authorship_tag": "ABX9TyMp4W3staKeIqofVMo7VcoO",
      "include_colab_link": true
    },
    "kernelspec": {
      "name": "python3",
      "display_name": "Python 3"
    },
    "language_info": {
      "name": "python"
    }
  },
  "cells": [
    {
      "cell_type": "markdown",
      "metadata": {
        "id": "view-in-github",
        "colab_type": "text"
      },
      "source": [
        "<a href=\"https://colab.research.google.com/github/LizbethResendiz/POO/blob/main/Saludo.ipynb\" target=\"_parent\"><img src=\"https://colab.research.google.com/assets/colab-badge.svg\" alt=\"Open In Colab\"/></a>"
      ]
    },
    {
      "cell_type": "markdown",
      "source": [
        "Programa hecho por Lizbeth Resendiz Avila 06/02/25\n"
      ],
      "metadata": {
        "id": "WcbZs5td7mn5"
      }
    },
    {
      "cell_type": "code",
      "execution_count": 16,
      "metadata": {
        "colab": {
          "base_uri": "https://localhost:8080/"
        },
        "id": "2laMnFdC3E5O",
        "outputId": "08211bd3-414f-44f1-9336-514c15b53fad"
      },
      "outputs": [
        {
          "output_type": "stream",
          "name": "stdout",
          "text": [
            "hola Lizbeth\n"
          ]
        }
      ],
      "source": [
        "class Saludo:\n",
        "  def __init__(self):\n",
        "    self.nombre=\"Lizbeth\"\n",
        "\n",
        "  def saludos(self):\n",
        "    print(\"hola\",self.nombre)\n",
        "\n",
        "\n"
      ]
    },
    {
      "cell_type": "code",
      "source": [
        "X=Saludo()\n",
        "X.saludos()"
      ],
      "metadata": {
        "colab": {
          "base_uri": "https://localhost:8080/"
        },
        "id": "bXLiSi-T77wS",
        "outputId": "6651307f-deb4-4d8a-df02-686c6cd01880"
      },
      "execution_count": 17,
      "outputs": [
        {
          "output_type": "stream",
          "name": "stdout",
          "text": [
            "hola Lizbeth\n"
          ]
        }
      ]
    }
  ]
}